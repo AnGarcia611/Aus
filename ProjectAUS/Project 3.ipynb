{
 "cells": [
  {
   "cell_type": "markdown",
   "id": "8fffd14f",
   "metadata": {},
   "source": [
    "# Weather in Australia. Will it rain tomorrow?\n",
    "## Introduction to the project \n"
   ]
  },
  {
   "cell_type": "markdown",
   "id": "1a79517f",
   "metadata": {},
   "source": [
    "### Context \n",
    "\n",
    "In this case, the project involves analyzing the \"**Weather in AUS**\" dataset from Kaggle, which contains information about various weather conditions across different cities in Australia. \n",
    "\n",
    "**Context of the project's integration into the business:** From a business perspective, weather data analysis is crucial for a wide range of industries, such as agriculture, transportation, energy, and tourism. By leveraging this dataset, we can gain valuable insights into weather patterns and trends, enabling organizations to make informed decisions that can optimize their operations, mitigate risks, and enhance their overall profitability. \n",
    "\n",
    "**From a technical point of view:** Technically, this project presents an exciting opportunity to showcase our data science skills. We will explore various techniques for data cleaning, preprocessing, exploratory analysis, and predictive modeling. The dataset contains a rich set of variables, including date, location, temperature, rainfall, wind speed, humidity, pressure, and cloud coverage. By applying advanced statistical and machine learning methods, we can uncover intricate relationships and patterns hidden within the data, leading to accurate weather forecasting models. \n",
    "\n",
    "**From an economic point of view:** Weather conditions have a significant impact on economic activities across various sectors. Accurate weather predictions can help businesses plan their operations more efficiently, reducing costs and improving profitability. For example, the agriculture industry can optimize crop yields by understanding weather patterns and making informed decisions about planting, harvesting, and irrigation. Similarly, energy companies can better manage their supply and demand based on weather forecasts, ensuring reliable and cost-effective energy distribution. \n",
    "\n",
    "**From a scientific point of view:** Scientifically, this project provides an excellent opportunity to contribute to the field of meteorology and climate science. By analyzing the Australian weather data, we can validate existing models, identify potential improvements, and even develop new theories or techniques for weather prediction. Our findings could help advance our understanding of atmospheric processes, climate change patterns, and other phenomena related to weather and climate. "
   ]
  },
  {
   "cell_type": "code",
   "execution_count": 2,
   "id": "f80bdca0",
   "metadata": {},
   "outputs": [],
   "source": [
    "import pandas as pd\n",
    "import numpy as np\n",
    "import matplotlib.pyplot as plt\n",
    "import seaborn as sns\n",
    "from sklearn.model_selection import train_test_split"
   ]
  },
  {
   "cell_type": "code",
   "execution_count": 3,
   "id": "da7c68cc",
   "metadata": {},
   "outputs": [],
   "source": [
    "\n",
    "df = pd.read_csv(\"C:/Users/dcruz2/Desktop/DUP/project/weatherAUS.csv\")"
   ]
  },
  {
   "cell_type": "markdown",
   "id": "21d167de",
   "metadata": {},
   "source": [
    "### Exploration of the data"
   ]
  },
  {
   "cell_type": "code",
   "execution_count": 4,
   "id": "c861f6e3",
   "metadata": {},
   "outputs": [
    {
     "name": "stdout",
     "output_type": "stream",
     "text": [
      "<class 'pandas.core.frame.DataFrame'>\n",
      "RangeIndex: 145460 entries, 0 to 145459\n",
      "Data columns (total 23 columns):\n",
      " #   Column         Non-Null Count   Dtype  \n",
      "---  ------         --------------   -----  \n",
      " 0   Date           145460 non-null  object \n",
      " 1   Location       145460 non-null  object \n",
      " 2   MinTemp        143975 non-null  float64\n",
      " 3   MaxTemp        144199 non-null  float64\n",
      " 4   Rainfall       142199 non-null  float64\n",
      " 5   Evaporation    82670 non-null   float64\n",
      " 6   Sunshine       75625 non-null   float64\n",
      " 7   WindGustDir    135134 non-null  object \n",
      " 8   WindGustSpeed  135197 non-null  float64\n",
      " 9   WindDir9am     134894 non-null  object \n",
      " 10  WindDir3pm     141232 non-null  object \n",
      " 11  WindSpeed9am   143693 non-null  float64\n",
      " 12  WindSpeed3pm   142398 non-null  float64\n",
      " 13  Humidity9am    142806 non-null  float64\n",
      " 14  Humidity3pm    140953 non-null  float64\n",
      " 15  Pressure9am    130395 non-null  float64\n",
      " 16  Pressure3pm    130432 non-null  float64\n",
      " 17  Cloud9am       89572 non-null   float64\n",
      " 18  Cloud3pm       86102 non-null   float64\n",
      " 19  Temp9am        143693 non-null  float64\n",
      " 20  Temp3pm        141851 non-null  float64\n",
      " 21  RainToday      142199 non-null  object \n",
      " 22  RainTomorrow   142193 non-null  object \n",
      "dtypes: float64(16), object(7)\n",
      "memory usage: 25.5+ MB\n"
     ]
    }
   ],
   "source": [
    "df.info()"
   ]
  },
  {
   "cell_type": "markdown",
   "id": "5d313f80",
   "metadata": {},
   "source": [
    "The dataset has 23 variables, 6 of which are categorical. The first column is the date, and we will later change it to datetime.\n",
    "\n",
    "4 variables present a missing value rate close to 40%."
   ]
  },
  {
   "cell_type": "code",
   "execution_count": 5,
   "id": "c4b97167",
   "metadata": {},
   "outputs": [
    {
     "data": {
      "text/html": [
       "<div>\n",
       "<style scoped>\n",
       "    .dataframe tbody tr th:only-of-type {\n",
       "        vertical-align: middle;\n",
       "    }\n",
       "\n",
       "    .dataframe tbody tr th {\n",
       "        vertical-align: top;\n",
       "    }\n",
       "\n",
       "    .dataframe thead th {\n",
       "        text-align: right;\n",
       "    }\n",
       "</style>\n",
       "<table border=\"1\" class=\"dataframe\">\n",
       "  <thead>\n",
       "    <tr style=\"text-align: right;\">\n",
       "      <th></th>\n",
       "      <th>0</th>\n",
       "      <th>1</th>\n",
       "      <th>2</th>\n",
       "      <th>3</th>\n",
       "      <th>4</th>\n",
       "    </tr>\n",
       "  </thead>\n",
       "  <tbody>\n",
       "    <tr>\n",
       "      <th>Date</th>\n",
       "      <td>2008-12-01</td>\n",
       "      <td>2008-12-02</td>\n",
       "      <td>2008-12-03</td>\n",
       "      <td>2008-12-04</td>\n",
       "      <td>2008-12-05</td>\n",
       "    </tr>\n",
       "    <tr>\n",
       "      <th>Location</th>\n",
       "      <td>Albury</td>\n",
       "      <td>Albury</td>\n",
       "      <td>Albury</td>\n",
       "      <td>Albury</td>\n",
       "      <td>Albury</td>\n",
       "    </tr>\n",
       "    <tr>\n",
       "      <th>MinTemp</th>\n",
       "      <td>13.4</td>\n",
       "      <td>7.4</td>\n",
       "      <td>12.9</td>\n",
       "      <td>9.2</td>\n",
       "      <td>17.5</td>\n",
       "    </tr>\n",
       "    <tr>\n",
       "      <th>MaxTemp</th>\n",
       "      <td>22.9</td>\n",
       "      <td>25.1</td>\n",
       "      <td>25.7</td>\n",
       "      <td>28.0</td>\n",
       "      <td>32.3</td>\n",
       "    </tr>\n",
       "    <tr>\n",
       "      <th>Rainfall</th>\n",
       "      <td>0.6</td>\n",
       "      <td>0.0</td>\n",
       "      <td>0.0</td>\n",
       "      <td>0.0</td>\n",
       "      <td>1.0</td>\n",
       "    </tr>\n",
       "    <tr>\n",
       "      <th>Evaporation</th>\n",
       "      <td>NaN</td>\n",
       "      <td>NaN</td>\n",
       "      <td>NaN</td>\n",
       "      <td>NaN</td>\n",
       "      <td>NaN</td>\n",
       "    </tr>\n",
       "    <tr>\n",
       "      <th>Sunshine</th>\n",
       "      <td>NaN</td>\n",
       "      <td>NaN</td>\n",
       "      <td>NaN</td>\n",
       "      <td>NaN</td>\n",
       "      <td>NaN</td>\n",
       "    </tr>\n",
       "    <tr>\n",
       "      <th>WindGustDir</th>\n",
       "      <td>W</td>\n",
       "      <td>WNW</td>\n",
       "      <td>WSW</td>\n",
       "      <td>NE</td>\n",
       "      <td>W</td>\n",
       "    </tr>\n",
       "    <tr>\n",
       "      <th>WindGustSpeed</th>\n",
       "      <td>44.0</td>\n",
       "      <td>44.0</td>\n",
       "      <td>46.0</td>\n",
       "      <td>24.0</td>\n",
       "      <td>41.0</td>\n",
       "    </tr>\n",
       "    <tr>\n",
       "      <th>WindDir9am</th>\n",
       "      <td>W</td>\n",
       "      <td>NNW</td>\n",
       "      <td>W</td>\n",
       "      <td>SE</td>\n",
       "      <td>ENE</td>\n",
       "    </tr>\n",
       "    <tr>\n",
       "      <th>WindDir3pm</th>\n",
       "      <td>WNW</td>\n",
       "      <td>WSW</td>\n",
       "      <td>WSW</td>\n",
       "      <td>E</td>\n",
       "      <td>NW</td>\n",
       "    </tr>\n",
       "    <tr>\n",
       "      <th>WindSpeed9am</th>\n",
       "      <td>20.0</td>\n",
       "      <td>4.0</td>\n",
       "      <td>19.0</td>\n",
       "      <td>11.0</td>\n",
       "      <td>7.0</td>\n",
       "    </tr>\n",
       "    <tr>\n",
       "      <th>WindSpeed3pm</th>\n",
       "      <td>24.0</td>\n",
       "      <td>22.0</td>\n",
       "      <td>26.0</td>\n",
       "      <td>9.0</td>\n",
       "      <td>20.0</td>\n",
       "    </tr>\n",
       "    <tr>\n",
       "      <th>Humidity9am</th>\n",
       "      <td>71.0</td>\n",
       "      <td>44.0</td>\n",
       "      <td>38.0</td>\n",
       "      <td>45.0</td>\n",
       "      <td>82.0</td>\n",
       "    </tr>\n",
       "    <tr>\n",
       "      <th>Humidity3pm</th>\n",
       "      <td>22.0</td>\n",
       "      <td>25.0</td>\n",
       "      <td>30.0</td>\n",
       "      <td>16.0</td>\n",
       "      <td>33.0</td>\n",
       "    </tr>\n",
       "    <tr>\n",
       "      <th>Pressure9am</th>\n",
       "      <td>1007.7</td>\n",
       "      <td>1010.6</td>\n",
       "      <td>1007.6</td>\n",
       "      <td>1017.6</td>\n",
       "      <td>1010.8</td>\n",
       "    </tr>\n",
       "    <tr>\n",
       "      <th>Pressure3pm</th>\n",
       "      <td>1007.1</td>\n",
       "      <td>1007.8</td>\n",
       "      <td>1008.7</td>\n",
       "      <td>1012.8</td>\n",
       "      <td>1006.0</td>\n",
       "    </tr>\n",
       "    <tr>\n",
       "      <th>Cloud9am</th>\n",
       "      <td>8.0</td>\n",
       "      <td>NaN</td>\n",
       "      <td>NaN</td>\n",
       "      <td>NaN</td>\n",
       "      <td>7.0</td>\n",
       "    </tr>\n",
       "    <tr>\n",
       "      <th>Cloud3pm</th>\n",
       "      <td>NaN</td>\n",
       "      <td>NaN</td>\n",
       "      <td>2.0</td>\n",
       "      <td>NaN</td>\n",
       "      <td>8.0</td>\n",
       "    </tr>\n",
       "    <tr>\n",
       "      <th>Temp9am</th>\n",
       "      <td>16.9</td>\n",
       "      <td>17.2</td>\n",
       "      <td>21.0</td>\n",
       "      <td>18.1</td>\n",
       "      <td>17.8</td>\n",
       "    </tr>\n",
       "    <tr>\n",
       "      <th>Temp3pm</th>\n",
       "      <td>21.8</td>\n",
       "      <td>24.3</td>\n",
       "      <td>23.2</td>\n",
       "      <td>26.5</td>\n",
       "      <td>29.7</td>\n",
       "    </tr>\n",
       "    <tr>\n",
       "      <th>RainToday</th>\n",
       "      <td>No</td>\n",
       "      <td>No</td>\n",
       "      <td>No</td>\n",
       "      <td>No</td>\n",
       "      <td>No</td>\n",
       "    </tr>\n",
       "    <tr>\n",
       "      <th>RainTomorrow</th>\n",
       "      <td>No</td>\n",
       "      <td>No</td>\n",
       "      <td>No</td>\n",
       "      <td>No</td>\n",
       "      <td>No</td>\n",
       "    </tr>\n",
       "  </tbody>\n",
       "</table>\n",
       "</div>"
      ],
      "text/plain": [
       "                        0           1           2           3           4\n",
       "Date           2008-12-01  2008-12-02  2008-12-03  2008-12-04  2008-12-05\n",
       "Location           Albury      Albury      Albury      Albury      Albury\n",
       "MinTemp              13.4         7.4        12.9         9.2        17.5\n",
       "MaxTemp              22.9        25.1        25.7        28.0        32.3\n",
       "Rainfall              0.6         0.0         0.0         0.0         1.0\n",
       "Evaporation           NaN         NaN         NaN         NaN         NaN\n",
       "Sunshine              NaN         NaN         NaN         NaN         NaN\n",
       "WindGustDir             W         WNW         WSW          NE           W\n",
       "WindGustSpeed        44.0        44.0        46.0        24.0        41.0\n",
       "WindDir9am              W         NNW           W          SE         ENE\n",
       "WindDir3pm            WNW         WSW         WSW           E          NW\n",
       "WindSpeed9am         20.0         4.0        19.0        11.0         7.0\n",
       "WindSpeed3pm         24.0        22.0        26.0         9.0        20.0\n",
       "Humidity9am          71.0        44.0        38.0        45.0        82.0\n",
       "Humidity3pm          22.0        25.0        30.0        16.0        33.0\n",
       "Pressure9am        1007.7      1010.6      1007.6      1017.6      1010.8\n",
       "Pressure3pm        1007.1      1007.8      1008.7      1012.8      1006.0\n",
       "Cloud9am              8.0         NaN         NaN         NaN         7.0\n",
       "Cloud3pm              NaN         NaN         2.0         NaN         8.0\n",
       "Temp9am              16.9        17.2        21.0        18.1        17.8\n",
       "Temp3pm              21.8        24.3        23.2        26.5        29.7\n",
       "RainToday              No          No          No          No          No\n",
       "RainTomorrow           No          No          No          No          No"
      ]
     },
     "execution_count": 5,
     "metadata": {},
     "output_type": "execute_result"
    }
   ],
   "source": [
    "# Print the first 5 rows, corresponding to 5 days from december 2008\n",
    "df.head().T"
   ]
  },
  {
   "cell_type": "code",
   "execution_count": 6,
   "id": "5a81ae9f",
   "metadata": {},
   "outputs": [],
   "source": [
    "#sns.pairplot(df)"
   ]
  },
  {
   "cell_type": "code",
   "execution_count": 7,
   "id": "911930af",
   "metadata": {},
   "outputs": [
    {
     "data": {
      "text/html": [
       "<div>\n",
       "<style scoped>\n",
       "    .dataframe tbody tr th:only-of-type {\n",
       "        vertical-align: middle;\n",
       "    }\n",
       "\n",
       "    .dataframe tbody tr th {\n",
       "        vertical-align: top;\n",
       "    }\n",
       "\n",
       "    .dataframe thead th {\n",
       "        text-align: right;\n",
       "    }\n",
       "</style>\n",
       "<table border=\"1\" class=\"dataframe\">\n",
       "  <thead>\n",
       "    <tr style=\"text-align: right;\">\n",
       "      <th></th>\n",
       "      <th>Date</th>\n",
       "      <th>Location</th>\n",
       "      <th>MinTemp</th>\n",
       "      <th>MaxTemp</th>\n",
       "      <th>Rainfall</th>\n",
       "      <th>Evaporation</th>\n",
       "      <th>Sunshine</th>\n",
       "      <th>WindGustDir</th>\n",
       "      <th>WindGustSpeed</th>\n",
       "      <th>WindDir9am</th>\n",
       "      <th>...</th>\n",
       "      <th>Humidity9am</th>\n",
       "      <th>Humidity3pm</th>\n",
       "      <th>Pressure9am</th>\n",
       "      <th>Pressure3pm</th>\n",
       "      <th>Cloud9am</th>\n",
       "      <th>Cloud3pm</th>\n",
       "      <th>Temp9am</th>\n",
       "      <th>Temp3pm</th>\n",
       "      <th>RainToday</th>\n",
       "      <th>RainTomorrow</th>\n",
       "    </tr>\n",
       "  </thead>\n",
       "  <tbody>\n",
       "    <tr>\n",
       "      <th>0</th>\n",
       "      <td>2008-12-01</td>\n",
       "      <td>Albury</td>\n",
       "      <td>13.4</td>\n",
       "      <td>22.9</td>\n",
       "      <td>0.6</td>\n",
       "      <td>NaN</td>\n",
       "      <td>NaN</td>\n",
       "      <td>W</td>\n",
       "      <td>44.0</td>\n",
       "      <td>W</td>\n",
       "      <td>...</td>\n",
       "      <td>71.0</td>\n",
       "      <td>22.0</td>\n",
       "      <td>1007.7</td>\n",
       "      <td>1007.1</td>\n",
       "      <td>8.0</td>\n",
       "      <td>NaN</td>\n",
       "      <td>16.9</td>\n",
       "      <td>21.8</td>\n",
       "      <td>0.0</td>\n",
       "      <td>0.0</td>\n",
       "    </tr>\n",
       "    <tr>\n",
       "      <th>1</th>\n",
       "      <td>2008-12-02</td>\n",
       "      <td>Albury</td>\n",
       "      <td>7.4</td>\n",
       "      <td>25.1</td>\n",
       "      <td>0.0</td>\n",
       "      <td>NaN</td>\n",
       "      <td>NaN</td>\n",
       "      <td>WNW</td>\n",
       "      <td>44.0</td>\n",
       "      <td>NNW</td>\n",
       "      <td>...</td>\n",
       "      <td>44.0</td>\n",
       "      <td>25.0</td>\n",
       "      <td>1010.6</td>\n",
       "      <td>1007.8</td>\n",
       "      <td>NaN</td>\n",
       "      <td>NaN</td>\n",
       "      <td>17.2</td>\n",
       "      <td>24.3</td>\n",
       "      <td>0.0</td>\n",
       "      <td>0.0</td>\n",
       "    </tr>\n",
       "    <tr>\n",
       "      <th>2</th>\n",
       "      <td>2008-12-03</td>\n",
       "      <td>Albury</td>\n",
       "      <td>12.9</td>\n",
       "      <td>25.7</td>\n",
       "      <td>0.0</td>\n",
       "      <td>NaN</td>\n",
       "      <td>NaN</td>\n",
       "      <td>WSW</td>\n",
       "      <td>46.0</td>\n",
       "      <td>W</td>\n",
       "      <td>...</td>\n",
       "      <td>38.0</td>\n",
       "      <td>30.0</td>\n",
       "      <td>1007.6</td>\n",
       "      <td>1008.7</td>\n",
       "      <td>NaN</td>\n",
       "      <td>2.0</td>\n",
       "      <td>21.0</td>\n",
       "      <td>23.2</td>\n",
       "      <td>0.0</td>\n",
       "      <td>0.0</td>\n",
       "    </tr>\n",
       "    <tr>\n",
       "      <th>3</th>\n",
       "      <td>2008-12-04</td>\n",
       "      <td>Albury</td>\n",
       "      <td>9.2</td>\n",
       "      <td>28.0</td>\n",
       "      <td>0.0</td>\n",
       "      <td>NaN</td>\n",
       "      <td>NaN</td>\n",
       "      <td>NE</td>\n",
       "      <td>24.0</td>\n",
       "      <td>SE</td>\n",
       "      <td>...</td>\n",
       "      <td>45.0</td>\n",
       "      <td>16.0</td>\n",
       "      <td>1017.6</td>\n",
       "      <td>1012.8</td>\n",
       "      <td>NaN</td>\n",
       "      <td>NaN</td>\n",
       "      <td>18.1</td>\n",
       "      <td>26.5</td>\n",
       "      <td>0.0</td>\n",
       "      <td>0.0</td>\n",
       "    </tr>\n",
       "    <tr>\n",
       "      <th>4</th>\n",
       "      <td>2008-12-05</td>\n",
       "      <td>Albury</td>\n",
       "      <td>17.5</td>\n",
       "      <td>32.3</td>\n",
       "      <td>1.0</td>\n",
       "      <td>NaN</td>\n",
       "      <td>NaN</td>\n",
       "      <td>W</td>\n",
       "      <td>41.0</td>\n",
       "      <td>ENE</td>\n",
       "      <td>...</td>\n",
       "      <td>82.0</td>\n",
       "      <td>33.0</td>\n",
       "      <td>1010.8</td>\n",
       "      <td>1006.0</td>\n",
       "      <td>7.0</td>\n",
       "      <td>8.0</td>\n",
       "      <td>17.8</td>\n",
       "      <td>29.7</td>\n",
       "      <td>0.0</td>\n",
       "      <td>0.0</td>\n",
       "    </tr>\n",
       "  </tbody>\n",
       "</table>\n",
       "<p>5 rows × 23 columns</p>\n",
       "</div>"
      ],
      "text/plain": [
       "         Date Location  MinTemp  MaxTemp  Rainfall  Evaporation  Sunshine  \\\n",
       "0  2008-12-01   Albury     13.4     22.9       0.6          NaN       NaN   \n",
       "1  2008-12-02   Albury      7.4     25.1       0.0          NaN       NaN   \n",
       "2  2008-12-03   Albury     12.9     25.7       0.0          NaN       NaN   \n",
       "3  2008-12-04   Albury      9.2     28.0       0.0          NaN       NaN   \n",
       "4  2008-12-05   Albury     17.5     32.3       1.0          NaN       NaN   \n",
       "\n",
       "  WindGustDir  WindGustSpeed WindDir9am  ... Humidity9am  Humidity3pm  \\\n",
       "0           W           44.0          W  ...        71.0         22.0   \n",
       "1         WNW           44.0        NNW  ...        44.0         25.0   \n",
       "2         WSW           46.0          W  ...        38.0         30.0   \n",
       "3          NE           24.0         SE  ...        45.0         16.0   \n",
       "4           W           41.0        ENE  ...        82.0         33.0   \n",
       "\n",
       "   Pressure9am  Pressure3pm  Cloud9am  Cloud3pm  Temp9am  Temp3pm  RainToday  \\\n",
       "0       1007.7       1007.1       8.0       NaN     16.9     21.8        0.0   \n",
       "1       1010.6       1007.8       NaN       NaN     17.2     24.3        0.0   \n",
       "2       1007.6       1008.7       NaN       2.0     21.0     23.2        0.0   \n",
       "3       1017.6       1012.8       NaN       NaN     18.1     26.5        0.0   \n",
       "4       1010.8       1006.0       7.0       8.0     17.8     29.7        0.0   \n",
       "\n",
       "   RainTomorrow  \n",
       "0           0.0  \n",
       "1           0.0  \n",
       "2           0.0  \n",
       "3           0.0  \n",
       "4           0.0  \n",
       "\n",
       "[5 rows x 23 columns]"
      ]
     },
     "execution_count": 7,
     "metadata": {},
     "output_type": "execute_result"
    }
   ],
   "source": [
    "# We are going to replace from objet to boolean the  target variable RainTomorrow and the variable RainToday\n",
    "\n",
    "df['RainToday'].replace({'No': 0, 'Yes': 1},inplace = True)\n",
    "df['RainTomorrow'].replace({'No': 0, 'Yes': 1},inplace = True)\n",
    "df.head()"
   ]
  },
  {
   "cell_type": "code",
   "execution_count": 8,
   "id": "bda99d52",
   "metadata": {},
   "outputs": [],
   "source": [
    "df['Date'] = pd.to_datetime(df['Date'])"
   ]
  },
  {
   "cell_type": "code",
   "execution_count": 9,
   "id": "de725798",
   "metadata": {},
   "outputs": [],
   "source": [
    "df['Year'] = df['Date'].dt.year\n",
    "df['Month'] = df['Date'].dt.month\n",
    "df['Day'] = df['Date'].dt.day\n"
   ]
  },
  {
   "cell_type": "code",
   "execution_count": 10,
   "id": "7793b569",
   "metadata": {},
   "outputs": [],
   "source": [
    "df.drop(['Date'], axis=1, inplace=True)"
   ]
  },
  {
   "cell_type": "code",
   "execution_count": 11,
   "id": "1da60fa8",
   "metadata": {},
   "outputs": [
    {
     "data": {
      "text/plain": [
       "0.0    0.758394\n",
       "1.0    0.219146\n",
       "Name: RainTomorrow, dtype: float64"
      ]
     },
     "execution_count": 11,
     "metadata": {},
     "output_type": "execute_result"
    }
   ],
   "source": [
    "df['RainTomorrow'].value_counts() / len(df)"
   ]
  },
  {
   "cell_type": "code",
   "execution_count": 12,
   "id": "64152563",
   "metadata": {},
   "outputs": [
    {
     "data": {
      "image/png": "[encoded data removed]",
      "text/plain": [
       "<Figure size 432x576 with 1 Axes>"
      ]
     },
     "metadata": {
      "needs_background": "light"
     },
     "output_type": "display_data"
    }
   ],
   "source": [
    "f, ax = plt.subplots(figsize=(6, 8))\n",
    "ax = sns.countplot(x=\"RainTomorrow\", data=df)\n",
    "plt.show()"
   ]
  },
  {
   "cell_type": "code",
   "execution_count": 13,
   "id": "f83c49d7",
   "metadata": {},
   "outputs": [
    {
     "data": {
      "image/png": "[encoded data removed]",
      "text/plain": [
       "<Figure size 1080x1080 with 2 Axes>"
      ]
     },
     "metadata": {
      "needs_background": "light"
     },
     "output_type": "display_data"
    }
   ],
   "source": [
    "corr_matrix = df.corr()\n",
    "fig, ax = plt.subplots(figsize= (15,15))\n",
    "\n",
    "sns.heatmap(corr_matrix, annot=True, ax = ax, cmap = 'coolwarm')\n",
    "plt.show()"
   ]
  },
  {
   "cell_type": "code",
   "execution_count": 14,
   "id": "79e0fb83",
   "metadata": {
    "scrolled": true
   },
   "outputs": [
    {
     "data": {
      "text/html": [
       "<div>\n",
       "<style scoped>\n",
       "    .dataframe tbody tr th:only-of-type {\n",
       "        vertical-align: middle;\n",
       "    }\n",
       "\n",
       "    .dataframe tbody tr th {\n",
       "        vertical-align: top;\n",
       "    }\n",
       "\n",
       "    .dataframe thead th {\n",
       "        text-align: right;\n",
       "    }\n",
       "</style>\n",
       "<table border=\"1\" class=\"dataframe\">\n",
       "  <thead>\n",
       "    <tr style=\"text-align: right;\">\n",
       "      <th></th>\n",
       "      <th>count</th>\n",
       "      <th>unique</th>\n",
       "      <th>top</th>\n",
       "      <th>freq</th>\n",
       "    </tr>\n",
       "  </thead>\n",
       "  <tbody>\n",
       "    <tr>\n",
       "      <th>Location</th>\n",
       "      <td>145460</td>\n",
       "      <td>49</td>\n",
       "      <td>Canberra</td>\n",
       "      <td>3436</td>\n",
       "    </tr>\n",
       "    <tr>\n",
       "      <th>WindGustDir</th>\n",
       "      <td>135134</td>\n",
       "      <td>16</td>\n",
       "      <td>W</td>\n",
       "      <td>9915</td>\n",
       "    </tr>\n",
       "    <tr>\n",
       "      <th>WindDir9am</th>\n",
       "      <td>134894</td>\n",
       "      <td>16</td>\n",
       "      <td>N</td>\n",
       "      <td>11758</td>\n",
       "    </tr>\n",
       "    <tr>\n",
       "      <th>WindDir3pm</th>\n",
       "      <td>141232</td>\n",
       "      <td>16</td>\n",
       "      <td>SE</td>\n",
       "      <td>10838</td>\n",
       "    </tr>\n",
       "  </tbody>\n",
       "</table>\n",
       "</div>"
      ],
      "text/plain": [
       "              count unique       top   freq\n",
       "Location     145460     49  Canberra   3436\n",
       "WindGustDir  135134     16         W   9915\n",
       "WindDir9am   134894     16         N  11758\n",
       "WindDir3pm   141232     16        SE  10838"
      ]
     },
     "execution_count": 14,
     "metadata": {},
     "output_type": "execute_result"
    }
   ],
   "source": [
    "df.describe(include = object).T"
   ]
  },
  {
   "cell_type": "markdown",
   "id": "3ca97275",
   "metadata": {},
   "source": [
    "#### Filling Missing Values"
   ]
  },
  {
   "cell_type": "code",
   "execution_count": 15,
   "id": "e7c17036",
   "metadata": {},
   "outputs": [],
   "source": [
    "numerical_vars = df.select_dtypes(include=['int64', 'float64']).columns\n",
    "df[numerical_vars] = df[numerical_vars].fillna(df[numerical_vars].mean())"
   ]
  },
  {
   "cell_type": "code",
   "execution_count": 16,
   "id": "c32a564d",
   "metadata": {},
   "outputs": [],
   "source": [
    "cat_vars = df.select_dtypes(include=['object']).columns\n",
    "df[cat_vars] = df[cat_vars].fillna(df[cat_vars].mode())\n"
   ]
  },
  {
   "cell_type": "code",
   "execution_count": 17,
   "id": "4d728640",
   "metadata": {},
   "outputs": [
    {
     "data": {
      "text/plain": [
       "0.000000    0.758415\n",
       "1.000000    0.219167\n",
       "0.224193    0.022419\n",
       "Name: RainToday, dtype: float64"
      ]
     },
     "execution_count": 17,
     "metadata": {},
     "output_type": "execute_result"
    }
   ],
   "source": [
    "##There was some missing values in the following variables that we are not interested in\n",
    "df['RainTomorrow'].value_counts() / len(df)\n",
    "df['RainToday'].value_counts() / len(df)"
   ]
  },
  {
   "cell_type": "code",
   "execution_count": 18,
   "id": "9f520e01",
   "metadata": {},
   "outputs": [],
   "source": [
    "##\n",
    "df = df[(df['RainTomorrow'] == 0) | (df['RainTomorrow'] == 1)]\n",
    "df = df[(df['RainToday'] == 0) | (df['RainToday'] == 1)]"
   ]
  },
  {
   "cell_type": "code",
   "execution_count": 19,
   "id": "eb5befbb",
   "metadata": {},
   "outputs": [
    {
     "data": {
      "text/plain": [
       "0.0    0.776577\n",
       "1.0    0.223423\n",
       "Name: RainToday, dtype: float64"
      ]
     },
     "execution_count": 19,
     "metadata": {},
     "output_type": "execute_result"
    }
   ],
   "source": [
    "df['RainTomorrow'].value_counts() / len(df)\n",
    "df['RainToday'].value_counts() / len(df)"
   ]
  },
  {
   "cell_type": "markdown",
   "id": "b9a405de",
   "metadata": {},
   "source": [
    "#### IQR Outliers"
   ]
  },
  {
   "cell_type": "code",
   "execution_count": 20,
   "id": "f9165dd3",
   "metadata": {
    "scrolled": true
   },
   "outputs": [
    {
     "data": {
      "text/html": [
       "<div>\n",
       "<style scoped>\n",
       "    .dataframe tbody tr th:only-of-type {\n",
       "        vertical-align: middle;\n",
       "    }\n",
       "\n",
       "    .dataframe tbody tr th {\n",
       "        vertical-align: top;\n",
       "    }\n",
       "\n",
       "    .dataframe thead th {\n",
       "        text-align: right;\n",
       "    }\n",
       "</style>\n",
       "<table border=\"1\" class=\"dataframe\">\n",
       "  <thead>\n",
       "    <tr style=\"text-align: right;\">\n",
       "      <th></th>\n",
       "      <th>count</th>\n",
       "      <th>mean</th>\n",
       "      <th>std</th>\n",
       "      <th>min</th>\n",
       "      <th>25%</th>\n",
       "      <th>50%</th>\n",
       "      <th>75%</th>\n",
       "      <th>max</th>\n",
       "    </tr>\n",
       "  </thead>\n",
       "  <tbody>\n",
       "    <tr>\n",
       "      <th>MinTemp</th>\n",
       "      <td>140787.0</td>\n",
       "      <td>12.184854</td>\n",
       "      <td>6.393226</td>\n",
       "      <td>-8.5</td>\n",
       "      <td>7.600000</td>\n",
       "      <td>12.000000</td>\n",
       "      <td>16.800000</td>\n",
       "      <td>33.9</td>\n",
       "    </tr>\n",
       "    <tr>\n",
       "      <th>MaxTemp</th>\n",
       "      <td>140787.0</td>\n",
       "      <td>23.235090</td>\n",
       "      <td>7.106739</td>\n",
       "      <td>-4.8</td>\n",
       "      <td>17.900000</td>\n",
       "      <td>22.700000</td>\n",
       "      <td>28.200000</td>\n",
       "      <td>48.1</td>\n",
       "    </tr>\n",
       "    <tr>\n",
       "      <th>Rainfall</th>\n",
       "      <td>140787.0</td>\n",
       "      <td>2.349974</td>\n",
       "      <td>8.465173</td>\n",
       "      <td>0.0</td>\n",
       "      <td>0.000000</td>\n",
       "      <td>0.000000</td>\n",
       "      <td>0.800000</td>\n",
       "      <td>371.0</td>\n",
       "    </tr>\n",
       "    <tr>\n",
       "      <th>Evaporation</th>\n",
       "      <td>140787.0</td>\n",
       "      <td>5.470699</td>\n",
       "      <td>3.179314</td>\n",
       "      <td>0.0</td>\n",
       "      <td>4.000000</td>\n",
       "      <td>5.468232</td>\n",
       "      <td>5.468232</td>\n",
       "      <td>145.0</td>\n",
       "    </tr>\n",
       "    <tr>\n",
       "      <th>Sunshine</th>\n",
       "      <td>140787.0</td>\n",
       "      <td>7.621352</td>\n",
       "      <td>2.741407</td>\n",
       "      <td>0.0</td>\n",
       "      <td>7.611178</td>\n",
       "      <td>7.611178</td>\n",
       "      <td>8.700000</td>\n",
       "      <td>14.5</td>\n",
       "    </tr>\n",
       "    <tr>\n",
       "      <th>WindGustSpeed</th>\n",
       "      <td>140787.0</td>\n",
       "      <td>39.974705</td>\n",
       "      <td>13.131804</td>\n",
       "      <td>6.0</td>\n",
       "      <td>31.000000</td>\n",
       "      <td>39.000000</td>\n",
       "      <td>46.000000</td>\n",
       "      <td>135.0</td>\n",
       "    </tr>\n",
       "    <tr>\n",
       "      <th>WindSpeed9am</th>\n",
       "      <td>140787.0</td>\n",
       "      <td>13.990893</td>\n",
       "      <td>8.852854</td>\n",
       "      <td>0.0</td>\n",
       "      <td>7.000000</td>\n",
       "      <td>13.000000</td>\n",
       "      <td>19.000000</td>\n",
       "      <td>130.0</td>\n",
       "    </tr>\n",
       "    <tr>\n",
       "      <th>WindSpeed3pm</th>\n",
       "      <td>140787.0</td>\n",
       "      <td>18.631707</td>\n",
       "      <td>8.718654</td>\n",
       "      <td>0.0</td>\n",
       "      <td>13.000000</td>\n",
       "      <td>18.662657</td>\n",
       "      <td>24.000000</td>\n",
       "      <td>87.0</td>\n",
       "    </tr>\n",
       "    <tr>\n",
       "      <th>Humidity9am</th>\n",
       "      <td>140787.0</td>\n",
       "      <td>68.827415</td>\n",
       "      <td>18.960665</td>\n",
       "      <td>0.0</td>\n",
       "      <td>57.000000</td>\n",
       "      <td>70.000000</td>\n",
       "      <td>83.000000</td>\n",
       "      <td>100.0</td>\n",
       "    </tr>\n",
       "    <tr>\n",
       "      <th>Humidity3pm</th>\n",
       "      <td>140787.0</td>\n",
       "      <td>51.451522</td>\n",
       "      <td>20.546973</td>\n",
       "      <td>0.0</td>\n",
       "      <td>37.000000</td>\n",
       "      <td>51.539116</td>\n",
       "      <td>65.000000</td>\n",
       "      <td>100.0</td>\n",
       "    </tr>\n",
       "    <tr>\n",
       "      <th>Pressure9am</th>\n",
       "      <td>140787.0</td>\n",
       "      <td>1017.654124</td>\n",
       "      <td>6.749189</td>\n",
       "      <td>980.5</td>\n",
       "      <td>1013.500000</td>\n",
       "      <td>1017.649940</td>\n",
       "      <td>1021.800000</td>\n",
       "      <td>1041.0</td>\n",
       "    </tr>\n",
       "    <tr>\n",
       "      <th>Pressure3pm</th>\n",
       "      <td>140787.0</td>\n",
       "      <td>1015.257760</td>\n",
       "      <td>6.682526</td>\n",
       "      <td>977.1</td>\n",
       "      <td>1011.000000</td>\n",
       "      <td>1015.255889</td>\n",
       "      <td>1019.400000</td>\n",
       "      <td>1039.6</td>\n",
       "    </tr>\n",
       "    <tr>\n",
       "      <th>Cloud9am</th>\n",
       "      <td>140787.0</td>\n",
       "      <td>4.437254</td>\n",
       "      <td>2.284266</td>\n",
       "      <td>0.0</td>\n",
       "      <td>3.000000</td>\n",
       "      <td>4.447461</td>\n",
       "      <td>6.000000</td>\n",
       "      <td>9.0</td>\n",
       "    </tr>\n",
       "    <tr>\n",
       "      <th>Cloud3pm</th>\n",
       "      <td>140787.0</td>\n",
       "      <td>4.503505</td>\n",
       "      <td>2.109464</td>\n",
       "      <td>0.0</td>\n",
       "      <td>4.000000</td>\n",
       "      <td>4.509930</td>\n",
       "      <td>6.000000</td>\n",
       "      <td>9.0</td>\n",
       "    </tr>\n",
       "    <tr>\n",
       "      <th>Temp9am</th>\n",
       "      <td>140787.0</td>\n",
       "      <td>16.987083</td>\n",
       "      <td>6.480860</td>\n",
       "      <td>-7.2</td>\n",
       "      <td>12.300000</td>\n",
       "      <td>16.800000</td>\n",
       "      <td>21.500000</td>\n",
       "      <td>40.2</td>\n",
       "    </tr>\n",
       "    <tr>\n",
       "      <th>Temp3pm</th>\n",
       "      <td>140787.0</td>\n",
       "      <td>21.693000</td>\n",
       "      <td>6.872826</td>\n",
       "      <td>-5.4</td>\n",
       "      <td>16.700000</td>\n",
       "      <td>21.300000</td>\n",
       "      <td>26.300000</td>\n",
       "      <td>46.7</td>\n",
       "    </tr>\n",
       "    <tr>\n",
       "      <th>RainToday</th>\n",
       "      <td>140787.0</td>\n",
       "      <td>0.223423</td>\n",
       "      <td>0.416541</td>\n",
       "      <td>0.0</td>\n",
       "      <td>0.000000</td>\n",
       "      <td>0.000000</td>\n",
       "      <td>0.000000</td>\n",
       "      <td>1.0</td>\n",
       "    </tr>\n",
       "    <tr>\n",
       "      <th>RainTomorrow</th>\n",
       "      <td>140787.0</td>\n",
       "      <td>0.221618</td>\n",
       "      <td>0.415337</td>\n",
       "      <td>0.0</td>\n",
       "      <td>0.000000</td>\n",
       "      <td>0.000000</td>\n",
       "      <td>0.000000</td>\n",
       "      <td>1.0</td>\n",
       "    </tr>\n",
       "    <tr>\n",
       "      <th>Year</th>\n",
       "      <td>140787.0</td>\n",
       "      <td>2012.757492</td>\n",
       "      <td>2.542272</td>\n",
       "      <td>2007.0</td>\n",
       "      <td>2011.000000</td>\n",
       "      <td>2013.000000</td>\n",
       "      <td>2015.000000</td>\n",
       "      <td>2017.0</td>\n",
       "    </tr>\n",
       "    <tr>\n",
       "      <th>Month</th>\n",
       "      <td>140787.0</td>\n",
       "      <td>6.403482</td>\n",
       "      <td>3.426583</td>\n",
       "      <td>1.0</td>\n",
       "      <td>3.000000</td>\n",
       "      <td>6.000000</td>\n",
       "      <td>9.000000</td>\n",
       "      <td>12.0</td>\n",
       "    </tr>\n",
       "    <tr>\n",
       "      <th>Day</th>\n",
       "      <td>140787.0</td>\n",
       "      <td>15.714704</td>\n",
       "      <td>8.798882</td>\n",
       "      <td>1.0</td>\n",
       "      <td>8.000000</td>\n",
       "      <td>16.000000</td>\n",
       "      <td>23.000000</td>\n",
       "      <td>31.0</td>\n",
       "    </tr>\n",
       "  </tbody>\n",
       "</table>\n",
       "</div>"
      ],
      "text/plain": [
       "                  count         mean        std     min          25%  \\\n",
       "MinTemp        140787.0    12.184854   6.393226    -8.5     7.600000   \n",
       "MaxTemp        140787.0    23.235090   7.106739    -4.8    17.900000   \n",
       "Rainfall       140787.0     2.349974   8.465173     0.0     0.000000   \n",
       "Evaporation    140787.0     5.470699   3.179314     0.0     4.000000   \n",
       "Sunshine       140787.0     7.621352   2.741407     0.0     7.611178   \n",
       "WindGustSpeed  140787.0    39.974705  13.131804     6.0    31.000000   \n",
       "WindSpeed9am   140787.0    13.990893   8.852854     0.0     7.000000   \n",
       "WindSpeed3pm   140787.0    18.631707   8.718654     0.0    13.000000   \n",
       "Humidity9am    140787.0    68.827415  18.960665     0.0    57.000000   \n",
       "Humidity3pm    140787.0    51.451522  20.546973     0.0    37.000000   \n",
       "Pressure9am    140787.0  1017.654124   6.749189   980.5  1013.500000   \n",
       "Pressure3pm    140787.0  1015.257760   6.682526   977.1  1011.000000   \n",
       "Cloud9am       140787.0     4.437254   2.284266     0.0     3.000000   \n",
       "Cloud3pm       140787.0     4.503505   2.109464     0.0     4.000000   \n",
       "Temp9am        140787.0    16.987083   6.480860    -7.2    12.300000   \n",
       "Temp3pm        140787.0    21.693000   6.872826    -5.4    16.700000   \n",
       "RainToday      140787.0     0.223423   0.416541     0.0     0.000000   \n",
       "RainTomorrow   140787.0     0.221618   0.415337     0.0     0.000000   \n",
       "Year           140787.0  2012.757492   2.542272  2007.0  2011.000000   \n",
       "Month          140787.0     6.403482   3.426583     1.0     3.000000   \n",
       "Day            140787.0    15.714704   8.798882     1.0     8.000000   \n",
       "\n",
       "                       50%          75%     max  \n",
       "MinTemp          12.000000    16.800000    33.9  \n",
       "MaxTemp          22.700000    28.200000    48.1  \n",
       "Rainfall          0.000000     0.800000   371.0  \n",
       "Evaporation       5.468232     5.468232   145.0  \n",
       "Sunshine          7.611178     8.700000    14.5  \n",
       "WindGustSpeed    39.000000    46.000000   135.0  \n",
       "WindSpeed9am     13.000000    19.000000   130.0  \n",
       "WindSpeed3pm     18.662657    24.000000    87.0  \n",
       "Humidity9am      70.000000    83.000000   100.0  \n",
       "Humidity3pm      51.539116    65.000000   100.0  \n",
       "Pressure9am    1017.649940  1021.800000  1041.0  \n",
       "Pressure3pm    1015.255889  1019.400000  1039.6  \n",
       "Cloud9am          4.447461     6.000000     9.0  \n",
       "Cloud3pm          4.509930     6.000000     9.0  \n",
       "Temp9am          16.800000    21.500000    40.2  \n",
       "Temp3pm          21.300000    26.300000    46.7  \n",
       "RainToday         0.000000     0.000000     1.0  \n",
       "RainTomorrow      0.000000     0.000000     1.0  \n",
       "Year           2013.000000  2015.000000  2017.0  \n",
       "Month             6.000000     9.000000    12.0  \n",
       "Day              16.000000    23.000000    31.0  "
      ]
     },
     "execution_count": 20,
     "metadata": {},
     "output_type": "execute_result"
    }
   ],
   "source": [
    "df.describe().T"
   ]
  },
  {
   "cell_type": "markdown",
   "id": "727251ff",
   "metadata": {},
   "source": [
    "If we compare the mean of each column with the min/max value, we'll notice that Rainfall, Evaporation, WindSpeed9am and WindSpeed3pm might have outliers as there's a considerable difference between average value and max value."
   ]
  },
  {
   "cell_type": "code",
   "execution_count": 21,
   "id": "966036e3",
   "metadata": {},
   "outputs": [
    {
     "data": {
      "image/png": "[encoded data removed]",
      "text/plain": [
       "<Figure size 1080x720 with 4 Axes>"
      ]
     },
     "metadata": {
      "needs_background": "light"
     },
     "output_type": "display_data"
    }
   ],
   "source": [
    "plt.figure(figsize=(15, 10))\n",
    "\n",
    "plt.subplot(2, 2, 1)\n",
    "ax = sns.boxplot(y=df[\"Rainfall\"])\n",
    "ax.set_xlabel(\"Rainfall\") \n",
    "\n",
    "plt.subplot(2, 2, 2)\n",
    "ax = sns.boxplot(y=df[\"Evaporation\"])\n",
    "ax.set_xlabel(\"Evaporation\")  \n",
    "\n",
    "plt.subplot(2, 2, 3)\n",
    "ax = sns.boxplot(y=df[\"WindSpeed9am\"])\n",
    "ax.set_xlabel(\"Wind Speed (units)\")  \n",
    "\n",
    "plt.subplot(2, 2, 4)\n",
    "ax = sns.boxplot(y=df[\"WindSpeed3pm\"])\n",
    "ax.set_xlabel(\"Wind Speed (units)\")  \n",
    "\n",
    "plt.ylabel(\"Measurement Value\") \n",
    "plt.suptitle(\"BoxPlot\")\n",
    "plt.xticks(rotation=45) \n",
    "plt.tight_layout() \n",
    "plt.show() "
   ]
  },
  {
   "cell_type": "code",
   "execution_count": 22,
   "id": "54efbf34",
   "metadata": {},
   "outputs": [],
   "source": [
    "fill_iqr = lambda col, iqr: col.apply(lambda x: iqr if x > iqr else x)"
   ]
  },
  {
   "cell_type": "code",
   "execution_count": 23,
   "id": "2639fcda",
   "metadata": {},
   "outputs": [
    {
     "name": "stdout",
     "output_type": "stream",
     "text": [
      "0.8\n",
      "2.8\n"
     ]
    }
   ],
   "source": [
    "# IQR (Inter Quartile Range) \n",
    "Q1 = df[\"Rainfall\"].quantile(0.25)\n",
    "Q3 = df[\"Rainfall\"].quantile(0.75)\n",
    "IQR = Q3 - Q1\n",
    "print(IQR)\n",
    "Up_Limit = Q3 + (2.5 * IQR)\n",
    "print(Up_Limit)\n"
   ]
  },
  {
   "cell_type": "code",
   "execution_count": 24,
   "id": "8ca2aa84",
   "metadata": {},
   "outputs": [],
   "source": [
    "df[\"Rainfall\"] = fill_iqr(df[\"Rainfall\"], Up_Limit)"
   ]
  },
  {
   "cell_type": "code",
   "execution_count": 25,
   "id": "9f4cf6f8",
   "metadata": {},
   "outputs": [
    {
     "name": "stdout",
     "output_type": "stream",
     "text": [
      "1.4682315229224638\n",
      "9.138810330228623\n"
     ]
    }
   ],
   "source": [
    "# IQR (Inter Quartile Range) \n",
    "Q1 = df[\"Evaporation\"].quantile(0.25)\n",
    "Q3 = df[\"Evaporation\"].quantile(0.75)\n",
    "IQR = Q3 - Q1\n",
    "print(IQR)\n",
    "Up_Limit = Q3 + (2.5 * IQR)\n",
    "print(Up_Limit)"
   ]
  },
  {
   "cell_type": "code",
   "execution_count": 26,
   "id": "2c03079c",
   "metadata": {},
   "outputs": [],
   "source": [
    "df[\"Evaporation\"] = fill_iqr(df[\"Evaporation\"], Up_Limit)"
   ]
  },
  {
   "cell_type": "code",
   "execution_count": 27,
   "id": "2f806137",
   "metadata": {},
   "outputs": [
    {
     "name": "stdout",
     "output_type": "stream",
     "text": [
      "12.0\n",
      "49.0\n"
     ]
    }
   ],
   "source": [
    "# IQR (Inter Quartile Range) \n",
    "Q1 = df[\"WindSpeed9am\"].quantile(0.25)\n",
    "Q3 = df[\"WindSpeed9am\"].quantile(0.75)\n",
    "IQR = Q3 - Q1\n",
    "print(IQR)\n",
    "Up_Limit = Q3 + (2.5 * IQR)\n",
    "print(Up_Limit)"
   ]
  },
  {
   "cell_type": "code",
   "execution_count": 28,
   "id": "3d2e9ede",
   "metadata": {},
   "outputs": [],
   "source": [
    "df[\"WindSpeed9am\"] = fill_iqr(df[\"WindSpeed9am\"], Up_Limit)"
   ]
  },
  {
   "cell_type": "code",
   "execution_count": 29,
   "id": "59bcc2ea",
   "metadata": {},
   "outputs": [
    {
     "name": "stdout",
     "output_type": "stream",
     "text": [
      "11.0\n",
      "51.5\n"
     ]
    }
   ],
   "source": [
    "# IQR (Inter Quartile Range) \n",
    "Q1 = df[\"WindSpeed3pm\"].quantile(0.25)\n",
    "Q3 = df[\"WindSpeed3pm\"].quantile(0.75)\n",
    "IQR = Q3 - Q1\n",
    "print(IQR)\n",
    "Up_Limit = Q3 + (2.5 * IQR)\n",
    "print(Up_Limit)"
   ]
  },
  {
   "cell_type": "code",
   "execution_count": 30,
   "id": "13ec7614",
   "metadata": {},
   "outputs": [],
   "source": [
    "df[\"WindSpeed3pm\"] = fill_iqr(df[\"WindSpeed3pm\"], Up_Limit)"
   ]
  },
  {
   "cell_type": "markdown",
   "id": "a72031d4",
   "metadata": {},
   "source": [
    "#### Separate and encode"
   ]
  },
  {
   "cell_type": "code",
   "execution_count": 31,
   "id": "81dd6f31",
   "metadata": {},
   "outputs": [],
   "source": [
    "from sklearn.preprocessing import LabelEncoder\n",
    "label_encoder = LabelEncoder()\n",
    "X = df.drop(\"RainTomorrow\",axis=1)\n",
    "y = df[\"RainTomorrow\"]\n"
   ]
  },
  {
   "cell_type": "code",
   "execution_count": 32,
   "id": "b58315bd",
   "metadata": {},
   "outputs": [],
   "source": [
    "\n",
    "cat_vars = X.select_dtypes(include=['object']).columns\n",
    "X[cat_vars] = X[cat_vars].apply(label_encoder.fit_transform)"
   ]
  },
  {
   "cell_type": "code",
   "execution_count": 33,
   "id": "c31e2f27",
   "metadata": {},
   "outputs": [
    {
     "data": {
      "text/html": [
       "<div>\n",
       "<style scoped>\n",
       "    .dataframe tbody tr th:only-of-type {\n",
       "        vertical-align: middle;\n",
       "    }\n",
       "\n",
       "    .dataframe tbody tr th {\n",
       "        vertical-align: top;\n",
       "    }\n",
       "\n",
       "    .dataframe thead th {\n",
       "        text-align: right;\n",
       "    }\n",
       "</style>\n",
       "<table border=\"1\" class=\"dataframe\">\n",
       "  <thead>\n",
       "    <tr style=\"text-align: right;\">\n",
       "      <th></th>\n",
       "      <th>0</th>\n",
       "      <th>1</th>\n",
       "      <th>2</th>\n",
       "      <th>3</th>\n",
       "      <th>4</th>\n",
       "    </tr>\n",
       "  </thead>\n",
       "  <tbody>\n",
       "    <tr>\n",
       "      <th>Location</th>\n",
       "      <td>2.000000</td>\n",
       "      <td>2.000000</td>\n",
       "      <td>2.000000</td>\n",
       "      <td>2.000000</td>\n",
       "      <td>2.000000</td>\n",
       "    </tr>\n",
       "    <tr>\n",
       "      <th>MinTemp</th>\n",
       "      <td>13.400000</td>\n",
       "      <td>7.400000</td>\n",
       "      <td>12.900000</td>\n",
       "      <td>9.200000</td>\n",
       "      <td>17.500000</td>\n",
       "    </tr>\n",
       "    <tr>\n",
       "      <th>MaxTemp</th>\n",
       "      <td>22.900000</td>\n",
       "      <td>25.100000</td>\n",
       "      <td>25.700000</td>\n",
       "      <td>28.000000</td>\n",
       "      <td>32.300000</td>\n",
       "    </tr>\n",
       "    <tr>\n",
       "      <th>Rainfall</th>\n",
       "      <td>0.600000</td>\n",
       "      <td>0.000000</td>\n",
       "      <td>0.000000</td>\n",
       "      <td>0.000000</td>\n",
       "      <td>1.000000</td>\n",
       "    </tr>\n",
       "    <tr>\n",
       "      <th>Evaporation</th>\n",
       "      <td>5.468232</td>\n",
       "      <td>5.468232</td>\n",
       "      <td>5.468232</td>\n",
       "      <td>5.468232</td>\n",
       "      <td>5.468232</td>\n",
       "    </tr>\n",
       "    <tr>\n",
       "      <th>Sunshine</th>\n",
       "      <td>7.611178</td>\n",
       "      <td>7.611178</td>\n",
       "      <td>7.611178</td>\n",
       "      <td>7.611178</td>\n",
       "      <td>7.611178</td>\n",
       "    </tr>\n",
       "    <tr>\n",
       "      <th>WindGustDir</th>\n",
       "      <td>13.000000</td>\n",
       "      <td>14.000000</td>\n",
       "      <td>15.000000</td>\n",
       "      <td>4.000000</td>\n",
       "      <td>13.000000</td>\n",
       "    </tr>\n",
       "    <tr>\n",
       "      <th>WindGustSpeed</th>\n",
       "      <td>44.000000</td>\n",
       "      <td>44.000000</td>\n",
       "      <td>46.000000</td>\n",
       "      <td>24.000000</td>\n",
       "      <td>41.000000</td>\n",
       "    </tr>\n",
       "    <tr>\n",
       "      <th>WindDir9am</th>\n",
       "      <td>13.000000</td>\n",
       "      <td>6.000000</td>\n",
       "      <td>13.000000</td>\n",
       "      <td>9.000000</td>\n",
       "      <td>1.000000</td>\n",
       "    </tr>\n",
       "    <tr>\n",
       "      <th>WindDir3pm</th>\n",
       "      <td>14.000000</td>\n",
       "      <td>15.000000</td>\n",
       "      <td>15.000000</td>\n",
       "      <td>0.000000</td>\n",
       "      <td>7.000000</td>\n",
       "    </tr>\n",
       "    <tr>\n",
       "      <th>WindSpeed9am</th>\n",
       "      <td>20.000000</td>\n",
       "      <td>4.000000</td>\n",
       "      <td>19.000000</td>\n",
       "      <td>11.000000</td>\n",
       "      <td>7.000000</td>\n",
       "    </tr>\n",
       "    <tr>\n",
       "      <th>WindSpeed3pm</th>\n",
       "      <td>24.000000</td>\n",
       "      <td>22.000000</td>\n",
       "      <td>26.000000</td>\n",
       "      <td>9.000000</td>\n",
       "      <td>20.000000</td>\n",
       "    </tr>\n",
       "    <tr>\n",
       "      <th>Humidity9am</th>\n",
       "      <td>71.000000</td>\n",
       "      <td>44.000000</td>\n",
       "      <td>38.000000</td>\n",
       "      <td>45.000000</td>\n",
       "      <td>82.000000</td>\n",
       "    </tr>\n",
       "    <tr>\n",
       "      <th>Humidity3pm</th>\n",
       "      <td>22.000000</td>\n",
       "      <td>25.000000</td>\n",
       "      <td>30.000000</td>\n",
       "      <td>16.000000</td>\n",
       "      <td>33.000000</td>\n",
       "    </tr>\n",
       "    <tr>\n",
       "      <th>Pressure9am</th>\n",
       "      <td>1007.700000</td>\n",
       "      <td>1010.600000</td>\n",
       "      <td>1007.600000</td>\n",
       "      <td>1017.600000</td>\n",
       "      <td>1010.800000</td>\n",
       "    </tr>\n",
       "    <tr>\n",
       "      <th>Pressure3pm</th>\n",
       "      <td>1007.100000</td>\n",
       "      <td>1007.800000</td>\n",
       "      <td>1008.700000</td>\n",
       "      <td>1012.800000</td>\n",
       "      <td>1006.000000</td>\n",
       "    </tr>\n",
       "    <tr>\n",
       "      <th>Cloud9am</th>\n",
       "      <td>8.000000</td>\n",
       "      <td>4.447461</td>\n",
       "      <td>4.447461</td>\n",
       "      <td>4.447461</td>\n",
       "      <td>7.000000</td>\n",
       "    </tr>\n",
       "    <tr>\n",
       "      <th>Cloud3pm</th>\n",
       "      <td>4.509930</td>\n",
       "      <td>4.509930</td>\n",
       "      <td>2.000000</td>\n",
       "      <td>4.509930</td>\n",
       "      <td>8.000000</td>\n",
       "    </tr>\n",
       "    <tr>\n",
       "      <th>Temp9am</th>\n",
       "      <td>16.900000</td>\n",
       "      <td>17.200000</td>\n",
       "      <td>21.000000</td>\n",
       "      <td>18.100000</td>\n",
       "      <td>17.800000</td>\n",
       "    </tr>\n",
       "    <tr>\n",
       "      <th>Temp3pm</th>\n",
       "      <td>21.800000</td>\n",
       "      <td>24.300000</td>\n",
       "      <td>23.200000</td>\n",
       "      <td>26.500000</td>\n",
       "      <td>29.700000</td>\n",
       "    </tr>\n",
       "    <tr>\n",
       "      <th>RainToday</th>\n",
       "      <td>0.000000</td>\n",
       "      <td>0.000000</td>\n",
       "      <td>0.000000</td>\n",
       "      <td>0.000000</td>\n",
       "      <td>0.000000</td>\n",
       "    </tr>\n",
       "    <tr>\n",
       "      <th>Year</th>\n",
       "      <td>2008.000000</td>\n",
       "      <td>2008.000000</td>\n",
       "      <td>2008.000000</td>\n",
       "      <td>2008.000000</td>\n",
       "      <td>2008.000000</td>\n",
       "    </tr>\n",
       "    <tr>\n",
       "      <th>Month</th>\n",
       "      <td>12.000000</td>\n",
       "      <td>12.000000</td>\n",
       "      <td>12.000000</td>\n",
       "      <td>12.000000</td>\n",
       "      <td>12.000000</td>\n",
       "    </tr>\n",
       "    <tr>\n",
       "      <th>Day</th>\n",
       "      <td>1.000000</td>\n",
       "      <td>2.000000</td>\n",
       "      <td>3.000000</td>\n",
       "      <td>4.000000</td>\n",
       "      <td>5.000000</td>\n",
       "    </tr>\n",
       "  </tbody>\n",
       "</table>\n",
       "</div>"
      ],
      "text/plain": [
       "                         0            1            2            3            4\n",
       "Location          2.000000     2.000000     2.000000     2.000000     2.000000\n",
       "MinTemp          13.400000     7.400000    12.900000     9.200000    17.500000\n",
       "MaxTemp          22.900000    25.100000    25.700000    28.000000    32.300000\n",
       "Rainfall          0.600000     0.000000     0.000000     0.000000     1.000000\n",
       "Evaporation       5.468232     5.468232     5.468232     5.468232     5.468232\n",
       "Sunshine          7.611178     7.611178     7.611178     7.611178     7.611178\n",
       "WindGustDir      13.000000    14.000000    15.000000     4.000000    13.000000\n",
       "WindGustSpeed    44.000000    44.000000    46.000000    24.000000    41.000000\n",
       "WindDir9am       13.000000     6.000000    13.000000     9.000000     1.000000\n",
       "WindDir3pm       14.000000    15.000000    15.000000     0.000000     7.000000\n",
       "WindSpeed9am     20.000000     4.000000    19.000000    11.000000     7.000000\n",
       "WindSpeed3pm     24.000000    22.000000    26.000000     9.000000    20.000000\n",
       "Humidity9am      71.000000    44.000000    38.000000    45.000000    82.000000\n",
       "Humidity3pm      22.000000    25.000000    30.000000    16.000000    33.000000\n",
       "Pressure9am    1007.700000  1010.600000  1007.600000  1017.600000  1010.800000\n",
       "Pressure3pm    1007.100000  1007.800000  1008.700000  1012.800000  1006.000000\n",
       "Cloud9am          8.000000     4.447461     4.447461     4.447461     7.000000\n",
       "Cloud3pm          4.509930     4.509930     2.000000     4.509930     8.000000\n",
       "Temp9am          16.900000    17.200000    21.000000    18.100000    17.800000\n",
       "Temp3pm          21.800000    24.300000    23.200000    26.500000    29.700000\n",
       "RainToday         0.000000     0.000000     0.000000     0.000000     0.000000\n",
       "Year           2008.000000  2008.000000  2008.000000  2008.000000  2008.000000\n",
       "Month            12.000000    12.000000    12.000000    12.000000    12.000000\n",
       "Day               1.000000     2.000000     3.000000     4.000000     5.000000"
      ]
     },
     "execution_count": 33,
     "metadata": {},
     "output_type": "execute_result"
    }
   ],
   "source": [
    "X.head().T"
   ]
  },
  {
   "cell_type": "code",
   "execution_count": 34,
   "id": "fe564981",
   "metadata": {},
   "outputs": [
    {
     "name": "stdout",
     "output_type": "stream",
     "text": [
      "<class 'pandas.core.series.Series'>\n",
      "Int64Index: 140787 entries, 0 to 145458\n",
      "Series name: RainTomorrow\n",
      "Non-Null Count   Dtype  \n",
      "--------------   -----  \n",
      "140787 non-null  float64\n",
      "dtypes: float64(1)\n",
      "memory usage: 2.1 MB\n"
     ]
    }
   ],
   "source": [
    "y.head()\n",
    "y.info()"
   ]
  },
  {
   "cell_type": "code",
   "execution_count": 35,
   "id": "21997746",
   "metadata": {},
   "outputs": [],
   "source": [
    "\n",
    "from sklearn.model_selection import train_test_split\n",
    "X_train, X_test, y_train, y_test = train_test_split(X, y, test_size=0.3, random_state= 42)"
   ]
  },
  {
   "cell_type": "markdown",
   "id": "740e01b2",
   "metadata": {},
   "source": [
    "#### SCALING DATA"
   ]
  },
  {
   "cell_type": "code",
   "execution_count": 36,
   "id": "622bf222",
   "metadata": {},
   "outputs": [],
   "source": [
    "from sklearn.preprocessing import StandardScaler\n",
    "scaler=StandardScaler()\n",
    "X_train_scaled=scaler.fit_transform(X_train)\n",
    "X_test_scaled=scaler.fit_transform(X_test)"
   ]
  },
  {
   "cell_type": "markdown",
   "id": "14697587",
   "metadata": {},
   "source": [
    "### MODEL Logistic Regression"
   ]
  },
  {
   "cell_type": "code",
   "execution_count": 37,
   "id": "571e972d",
   "metadata": {},
   "outputs": [],
   "source": [
    "#y_train = y_train.replace({0: 'No', 1: 'Yes'})\n",
    "#y_test = y_test.replace({0: 'No', 1: 'Yes'})"
   ]
  },
  {
   "cell_type": "code",
   "execution_count": 38,
   "id": "21c9ca9b",
   "metadata": {},
   "outputs": [
    {
     "data": {
      "text/plain": [
       "LogisticRegression()"
      ]
     },
     "execution_count": 38,
     "metadata": {},
     "output_type": "execute_result"
    }
   ],
   "source": [
    "from sklearn.linear_model import LogisticRegression\n",
    "logreg = LogisticRegression()\n",
    "logreg.fit(X_train_scaled, y_train)"
   ]
  },
  {
   "cell_type": "code",
   "execution_count": 39,
   "id": "64f29b6a",
   "metadata": {},
   "outputs": [
    {
     "data": {
      "text/plain": [
       "0.8440466889220352"
      ]
     },
     "execution_count": 39,
     "metadata": {},
     "output_type": "execute_result"
    }
   ],
   "source": [
    "y_pred = logreg.predict(X_test_scaled)\n",
    "logreg.score(X_test_scaled, y_test)"
   ]
  },
  {
   "cell_type": "code",
   "execution_count": 40,
   "id": "d3dc97fa",
   "metadata": {},
   "outputs": [
    {
     "name": "stdout",
     "output_type": "stream",
     "text": [
      "[0. 0. 0. ... 0. 0. 0.]\n"
     ]
    }
   ],
   "source": [
    "print(y_pred)"
   ]
  },
  {
   "cell_type": "code",
   "execution_count": 41,
   "id": "2bbc7cb2",
   "metadata": {},
   "outputs": [
    {
     "name": "stdout",
     "output_type": "stream",
     "text": [
      "[[31012  1808]\n",
      " [ 4779  4638]]\n"
     ]
    }
   ],
   "source": [
    "from sklearn.metrics import confusion_matrix\n",
    "cm = confusion_matrix(y_test, y_pred)\n",
    "print(cm)"
   ]
  },
  {
   "cell_type": "code",
   "execution_count": 42,
   "id": "0863186f",
   "metadata": {},
   "outputs": [
    {
     "data": {
      "text/plain": [
       "<AxesSubplot:>"
      ]
     },
     "execution_count": 42,
     "metadata": {},
     "output_type": "execute_result"
    },
    {
     "data": {
      "image/png": "[encoded data removed]",
      "text/plain": [
       "<Figure size 432x288 with 2 Axes>"
      ]
     },
     "metadata": {
      "needs_background": "light"
     },
     "output_type": "display_data"
    }
   ],
   "source": [
    "cm_matrix = pd.DataFrame(data=cm, columns=['Actual Positive:1', 'Actual Negative:0'], \n",
    "                                 index=['Predict Positive:1', 'Predict Negative:0'])\n",
    "\n",
    "sns.heatmap(cm_matrix, annot=True, fmt='d', cmap='YlGnBu')"
   ]
  },
  {
   "cell_type": "code",
   "execution_count": null,
   "id": "ffe24885",
   "metadata": {},
   "outputs": [],
   "source": []
  },
  {
   "cell_type": "markdown",
   "id": "d863ff43",
   "metadata": {},
   "source": [
    "### MODEL RF"
   ]
  },
  {
   "cell_type": "code",
   "execution_count": 43,
   "id": "2312aa29",
   "metadata": {},
   "outputs": [
    {
     "data": {
      "text/plain": [
       "RandomForestClassifier()"
      ]
     },
     "execution_count": 43,
     "metadata": {},
     "output_type": "execute_result"
    }
   ],
   "source": [
    "from sklearn.ensemble import RandomForestClassifier\n",
    "\n",
    "rf = RandomForestClassifier()\n",
    "rf.fit(X_train_scaled, y_train)"
   ]
  },
  {
   "cell_type": "code",
   "execution_count": 44,
   "id": "3c706ef1",
   "metadata": {},
   "outputs": [
    {
     "data": {
      "text/plain": [
       "0.8575419655752066"
      ]
     },
     "execution_count": 44,
     "metadata": {},
     "output_type": "execute_result"
    }
   ],
   "source": [
    "y_pred_rf = rf.predict(X_test_scaled)\n",
    "rf.score(X_test_scaled, y_test)"
   ]
  },
  {
   "cell_type": "code",
   "execution_count": 45,
   "id": "2657eab8",
   "metadata": {},
   "outputs": [
    {
     "name": "stdout",
     "output_type": "stream",
     "text": [
      "[0. 0. 0. ... 0. 0. 0.]\n"
     ]
    }
   ],
   "source": [
    "print(y_pred_rf)"
   ]
  },
  {
   "cell_type": "code",
   "execution_count": 46,
   "id": "c7abdbce",
   "metadata": {},
   "outputs": [
    {
     "name": "stdout",
     "output_type": "stream",
     "text": [
      "[[31447  1373]\n",
      " [ 4644  4773]]\n"
     ]
    }
   ],
   "source": [
    "cm_rf = confusion_matrix(y_test, y_pred_rf)\n",
    "print(cm_rf)"
   ]
  },
  {
   "cell_type": "code",
   "execution_count": 47,
   "id": "70ce4cc8",
   "metadata": {},
   "outputs": [
    {
     "data": {
      "text/plain": [
       "<AxesSubplot:>"
      ]
     },
     "execution_count": 47,
     "metadata": {},
     "output_type": "execute_result"
    },
    {
     "data": {
      "image/png": "[encoded data removed]",
      "text/plain": [
       "<Figure size 432x288 with 2 Axes>"
      ]
     },
     "metadata": {
      "needs_background": "light"
     },
     "output_type": "display_data"
    }
   ],
   "source": [
    "cm_matrix_rf = pd.DataFrame(data=cm_rf, columns=['Actual Positive:1', 'Actual Negative:0'], \n",
    "                                 index=['Predict Positive:1', 'Predict Negative:0'])\n",
    "\n",
    "sns.heatmap(cm_matrix_rf, annot=True, fmt='d', cmap='YlGnBu')"
   ]
  },
  {
   "cell_type": "markdown",
   "id": "c76141ca",
   "metadata": {},
   "source": [
    "### MODEL DT"
   ]
  },
  {
   "cell_type": "code",
   "execution_count": 48,
   "id": "3c5c9e7a",
   "metadata": {},
   "outputs": [
    {
     "data": {
      "text/plain": [
       "DecisionTreeClassifier()"
      ]
     },
     "execution_count": 48,
     "metadata": {},
     "output_type": "execute_result"
    }
   ],
   "source": [
    "from sklearn.tree import DecisionTreeClassifier\n",
    "\n",
    "dt = DecisionTreeClassifier()\n",
    "dt.fit(X_train_scaled, y_train)"
   ]
  },
  {
   "cell_type": "code",
   "execution_count": 49,
   "id": "128e94c1",
   "metadata": {},
   "outputs": [
    {
     "data": {
      "text/plain": [
       "0.7889054620356559"
      ]
     },
     "execution_count": 49,
     "metadata": {},
     "output_type": "execute_result"
    }
   ],
   "source": [
    "y_pred_dt = rf.predict(X_test_scaled)\n",
    "dt.score(X_test_scaled, y_test)"
   ]
  },
  {
   "cell_type": "code",
   "execution_count": 50,
   "id": "962d69b4",
   "metadata": {},
   "outputs": [
    {
     "name": "stdout",
     "output_type": "stream",
     "text": [
      "[0. 0. 0. ... 0. 0. 0.]\n"
     ]
    }
   ],
   "source": [
    "print(y_pred_dt)"
   ]
  },
  {
   "cell_type": "code",
   "execution_count": 51,
   "id": "f01136d8",
   "metadata": {},
   "outputs": [
    {
     "name": "stdout",
     "output_type": "stream",
     "text": [
      "[[31447  1373]\n",
      " [ 4644  4773]]\n"
     ]
    }
   ],
   "source": [
    "cm_dt = confusion_matrix(y_test, y_pred_dt)\n",
    "print(cm_dt)"
   ]
  },
  {
   "cell_type": "code",
   "execution_count": 52,
   "id": "9b9737f2",
   "metadata": {},
   "outputs": [
    {
     "data": {
      "text/plain": [
       "<AxesSubplot:>"
      ]
     },
     "execution_count": 52,
     "metadata": {},
     "output_type": "execute_result"
    },
    {
     "data": {
      "image/png": "[encoded data removed]",
      "text/plain": [
       "<Figure size 432x288 with 2 Axes>"
      ]
     },
     "metadata": {
      "needs_background": "light"
     },
     "output_type": "display_data"
    }
   ],
   "source": [
    "cm_matrix_dt = pd.DataFrame(data=cm_dt, columns=['Actual Positive:1', 'Actual Negative:0'], \n",
    "                                 index=['Predict Positive:1', 'Predict Negative:0'])\n",
    "\n",
    "sns.heatmap(cm_matrix_dt, annot=True, fmt='d', cmap='YlGnBu')"
   ]
  }
 ],
 "metadata": {
  "kernelspec": {
   "display_name": "Python 3 (ipykernel)",
   "language": "python",
   "name": "python3"
  },
  "language_info": {
   "codemirror_mode": {
    "name": "ipython",
    "version": 3
   },
   "file_extension": ".py",
   "mimetype": "text/x-python",
   "name": "python",
   "nbconvert_exporter": "python",
   "pygments_lexer": "ipython3",
   "version": "3.9.12"
  }
 },
 "nbformat": 4,
 "nbformat_minor": 5
}
